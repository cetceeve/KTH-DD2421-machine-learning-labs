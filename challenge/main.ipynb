{
  "cells": [
    {
      "cell_type": "markdown",
      "metadata": {
        "id": "4oZxTENhSJn0"
      },
      "source": [
        "# Programming Challenge\n"
      ]
    },
    {
      "cell_type": "markdown",
      "metadata": {
        "id": "oCdNhrnqSJn4"
      },
      "source": [
        "Imports "
      ]
    },
    {
      "cell_type": "code",
      "execution_count": 1,
      "metadata": {
        "id": "s_PXJJRTSJn4"
      },
      "outputs": [],
      "source": [
        "import numpy as np\n",
        "import matplotlib.pyplot as plt\n",
        "from typing import *\n",
        "from sklearn.tree import DecisionTreeClassifier, export_graphviz\n",
        "from sklearn.ensemble import RandomForestClassifier, AdaBoostClassifier\n",
        "from sklearn.naive_bayes import GaussianNB\n",
        "from sklearn.svm import SVC\n",
        "from sklearn.model_selection import train_test_split\n",
        "from sklearn.preprocessing import normalize, OneHotEncoder, StandardScaler\n",
        "from sklearn.decomposition import PCA, KernelPCA\n",
        "import graphviz "
      ]
    },
    {
      "attachments": {},
      "cell_type": "markdown",
      "metadata": {},
      "source": [
        "# Results comparisson"
      ]
    },
    {
      "cell_type": "code",
      "execution_count": 8,
      "metadata": {},
      "outputs": [
        {
          "name": "stdout",
          "output_type": "stream",
          "text": [
            "Accuracy: 62.61\n"
          ]
        }
      ],
      "source": [
        "gt = np.loadtxt(\"./content/EvaluationGT-6.csv\", encoding=\"utf-8\", dtype=\"str\")\n",
        "results = np.loadtxt(\"./output/results.txt\", encoding=\"utf-8\", dtype=\"str\")\n",
        "\n",
        "print(\"Accuracy:\",\"%.5g\" % (100*np.mean((results==gt).astype(float))) )"
      ]
    },
    {
      "cell_type": "markdown",
      "metadata": {
        "id": "TatM3ew5g-6z"
      },
      "source": [
        "# Preprocessing"
      ]
    },
    {
      "cell_type": "markdown",
      "metadata": {
        "id": "qsiFWPqlSJn5"
      },
      "source": [
        "load csv and apply the following changes\n",
        "1. remove column 5\n",
        "2. encode the labels as 0: Serpent, 1: Dragspel, 2: Nyckelharpa\n",
        "3. replace N/A by ''\n",
        "4. transform boolean column into TRUE: 1, and FALSE: 0"
      ]
    },
    {
      "cell_type": "code",
      "execution_count": 3,
      "metadata": {
        "id": "Nu0M-rr7SJn5"
      },
      "outputs": [],
      "source": [
        "def label_encodings(label):\n",
        "    if label == \"Serpent\":\n",
        "        return 0\n",
        "    elif label == \"Dragspel\":\n",
        "        return 1\n",
        "    else:\n",
        "        return 2\n",
        "\n",
        "\n",
        "# na_transform = lambda s: '' if s == 'N/A' else s\n",
        "bool_transform = lambda b: 1 if b == 'TRUE' else 0\n",
        "\n",
        "# data_types = [(\"y\", \"U11\"), (\"x1\", np.float32), (\"x2\", np.float32), (\"x3\", np.float32), (\"x4\", np.float32), (\"x5\", np.float32), (\"x6\", \"U17\"), (\"x7\", np.float32), (\"x8\", np.float32), (\"x9\", np.float32), (\"x10\", np.float32), (\"x11\", np.float32), (\"x12\", np.float32), (\"x13\", np.float32)]\n",
        "# Get all string features\n",
        "labels, x6_raw = np.genfromtxt(\"./content/TrainOnMe-Clean.csv\", delimiter=\";\", encoding=\"utf-8\", dtype=None, skip_header=1, usecols=[0, 6], converters={0: label_encodings}, unpack=True)\n",
        "# Get all float features\n",
        "data_raw = np.loadtxt(\"./content/TrainOnMe-Clean.csv\", delimiter=\";\", encoding=\"utf-8\", skiprows=1, usecols=[1,2,3,4,7,8,9,10,11,12,13], converters = {11: bool_transform, 12: bool_transform})"
      ]
    },
    {
      "cell_type": "code",
      "execution_count": null,
      "metadata": {
        "id": "8I--7iiXSJn6"
      },
      "outputs": [],
      "source": [
        "display(labels)\n",
        "display(x6_raw)"
      ]
    },
    {
      "attachments": {},
      "cell_type": "markdown",
      "metadata": {
        "id": "nxh6yaiaSJn6"
      },
      "source": [
        "### Normalize the float data\n",
        "\n",
        "boolean data needs to be added back in\n",
        "**ONLY USE FOR SVM; REMEMBER TO CHANGE INPUTS FOR PCA**"
      ]
    },
    {
      "cell_type": "code",
      "execution_count": 4,
      "metadata": {
        "id": "ByCy6NFrSJn7"
      },
      "outputs": [],
      "source": [
        "# data_normed = normalize(data_raw, axis=0) # rewrite the boolean columsn that get ruined by the normalization\n",
        "def normalize(input):\n",
        "    scalar = StandardScaler().fit(input)\n",
        "    normed = scalar.transform(input)\n",
        "    normed[:, -3] = input[:, -3]\n",
        "    normed[:, -2] = input[:, -2]\n",
        "    return normed\n",
        "data_normed = normalize(data_raw)"
      ]
    },
    {
      "cell_type": "code",
      "execution_count": null,
      "metadata": {
        "id": "kglUWAVGSJn7"
      },
      "outputs": [],
      "source": [
        "print(data_normed[:10])"
      ]
    },
    {
      "cell_type": "markdown",
      "metadata": {
        "id": "gSijE9-ThIwY"
      },
      "source": [
        "### One-hot encoding of x6 categorial features\n",
        "\n",
        "- first get the categories (including N/A)\n",
        "- second encode them"
      ]
    },
    {
      "cell_type": "code",
      "execution_count": 5,
      "metadata": {
        "id": "gT2bh2_ghZ69"
      },
      "outputs": [],
      "source": [
        "def x6_encoding(input, x6):\n",
        "    categories = set(x6)\n",
        "    # categories.remove('N/A')\n",
        "    categories = list(categories)\n",
        "\n",
        "    encoder = OneHotEncoder(handle_unknown='ignore', categories=[categories,])\n",
        "    # fit and transform x6 using the encoder\n",
        "    x6_encoded = encoder.fit_transform(x6.reshape(-1, 1)) # reshape to make it column vector (comes as )\n",
        "    x6_encoded = x6_encoded.todense()\n",
        "\n",
        "    return np.asarray(np.hstack((input, x6_encoded)))"
      ]
    },
    {
      "cell_type": "code",
      "execution_count": 195,
      "metadata": {},
      "outputs": [],
      "source": [
        "data_encoded = x6_encoding(data_raw, x6_raw)"
      ]
    },
    {
      "cell_type": "code",
      "execution_count": 6,
      "metadata": {},
      "outputs": [],
      "source": [
        "data_encoded = x6_encoding(data_normed, x6_raw)"
      ]
    },
    {
      "cell_type": "code",
      "execution_count": 6,
      "metadata": {
        "colab": {
          "base_uri": "https://localhost:8080/"
        },
        "id": "E6LhCrXiko3S",
        "outputId": "9b09333b-acb0-4752-837d-c4048fd09972"
      },
      "outputs": [
        {
          "name": "stdout",
          "output_type": "stream",
          "text": [
            "(996, 18)\n",
            "[-6.61910000e-01  2.27075098e+03  1.00087802e+03  6.65212700e+01\n",
            " -1.10984000e+00  1.61928000e+00  5.47863564e+03 -8.91877781e+04\n",
            "  1.00000000e+00  1.00000000e+00  1.32381000e+00  0.00000000e+00\n",
            "  0.00000000e+00  0.00000000e+00  1.00000000e+00  0.00000000e+00\n",
            "  0.00000000e+00  0.00000000e+00]\n"
          ]
        }
      ],
      "source": [
        "print(data_encoded.shape)\n",
        "print(data_encoded[0])"
      ]
    },
    {
      "attachments": {},
      "cell_type": "markdown",
      "metadata": {},
      "source": [
        "## PCA"
      ]
    },
    {
      "cell_type": "code",
      "execution_count": 7,
      "metadata": {},
      "outputs": [
        {
          "name": "stdout",
          "output_type": "stream",
          "text": [
            "(996, 7)\n"
          ]
        }
      ],
      "source": [
        "def run_pca(input):\n",
        "    pca = PCA(n_components=7)\n",
        "    pca.fit(input)\n",
        "    return pca.transform(input)\n",
        "data = run_pca(data_encoded)\n",
        "print(data.shape)"
      ]
    },
    {
      "attachments": {},
      "cell_type": "markdown",
      "metadata": {
        "id": "BF03rdRIg2a9"
      },
      "source": [
        "# Classifier"
      ]
    },
    {
      "cell_type": "code",
      "execution_count": 241,
      "metadata": {},
      "outputs": [
        {
          "name": "stdout",
          "output_type": "stream",
          "text": [
            "Accuracy 77.1\n"
          ]
        }
      ],
      "source": [
        "clf = SVC()\n",
        "# clf = RandomForestClassifier(n_estimators=100, criterion=\"gini\", max_depth=7, ccp_alpha=0.004)\n",
        "clf.fit(X=data, y=labels)\n",
        "prediction = clf.predict(data)\n",
        "print(\"Accuracy\",\"%.3g\" % (100*np.mean((prediction==labels).astype(float))))"
      ]
    },
    {
      "attachments": {},
      "cell_type": "markdown",
      "metadata": {},
      "source": [
        "# Evaluation"
      ]
    },
    {
      "attachments": {},
      "cell_type": "markdown",
      "metadata": {},
      "source": [
        "Prepare the data"
      ]
    },
    {
      "cell_type": "code",
      "execution_count": 242,
      "metadata": {},
      "outputs": [
        {
          "name": "stdout",
          "output_type": "stream",
          "text": [
            "(10000, 18)\n",
            "(10000, 8)\n"
          ]
        }
      ],
      "source": [
        "# Get all string features\n",
        "x6_eval = np.genfromtxt(\"./content/EvaluateOnMe-6.csv\", delimiter=\",\", encoding=\"utf-8\", dtype=None, skip_header=1, usecols=[5])\n",
        "# Get all float features\n",
        "input_eval = np.loadtxt(\"./content/EvaluateOnMe-6.csv\", delimiter=\",\", encoding=\"utf-8\", skiprows=1, usecols=[0,1,2,3,6,7,8,9,10,11,12], converters = {10: bool_transform, 11: bool_transform})\n",
        "\n",
        "data_encoded = x6_encoding(normalize(input_eval), x6_eval)\n",
        "# data_encoded = x6_encoding(input_eval, x6_eval)\n",
        "print(data_encoded.shape)\n",
        "data_eval = run_pca(data_encoded)\n",
        "print(data_eval.shape)"
      ]
    },
    {
      "attachments": {},
      "cell_type": "markdown",
      "metadata": {},
      "source": [
        "Run the classification"
      ]
    },
    {
      "cell_type": "code",
      "execution_count": 243,
      "metadata": {},
      "outputs": [
        {
          "name": "stdout",
          "output_type": "stream",
          "text": [
            "10000\n"
          ]
        }
      ],
      "source": [
        "def reencode_labels(results):\n",
        "    def encodings(x):\n",
        "        if x == 0:\n",
        "            return \"Serpent\"\n",
        "        elif x == 1:\n",
        "            return \"Dragspel\"\n",
        "        else:\n",
        "            return \"Nyckelharpa\"\n",
        "    return [encodings(x) for x in results]\n",
        "\n",
        "result = clf.predict(data_eval)\n",
        "result = reencode_labels(result)\n",
        "print(len(result))"
      ]
    },
    {
      "attachments": {},
      "cell_type": "markdown",
      "metadata": {},
      "source": [
        "Output to file"
      ]
    },
    {
      "cell_type": "code",
      "execution_count": 244,
      "metadata": {},
      "outputs": [],
      "source": [
        "with open('./output/results.txt','w') as tfile:\n",
        "    tfile.write('\\n'.join(result))"
      ]
    },
    {
      "cell_type": "markdown",
      "metadata": {
        "id": "77oz4xlBSJn9"
      },
      "source": [
        "# Test Classifier\n",
        "\n",
        "classification and testing steps put together in a loop"
      ]
    },
    {
      "cell_type": "code",
      "execution_count": 16,
      "metadata": {
        "id": "b-BpFGprSJn-"
      },
      "outputs": [],
      "source": [
        "def test_classifier(data, labels, ntrials = 100): \n",
        "    means = np.zeros(ntrials,)\n",
        "    for trial in range(ntrials):\n",
        "        X_train, X_test, y_train, y_test = train_test_split(data, labels, test_size=0.3)\n",
        "\n",
        "        # Train\n",
        "        # clf = DecisionTreeClassifier(criterion=\"entropy\", max_depth=6, ccp_alpha=0.006)\n",
        "        clf = SVC()\n",
        "        # clf = RandomForestClassifier(n_estimators=100, criterion=\"gini\", max_depth=8, ccp_alpha=0.003)\n",
        "        clf.fit(X=X_train, y=y_train)\n",
        "        # Predict\n",
        "        prediction = clf.predict(X_test)\n",
        "\n",
        "        # Compute classification error\n",
        "        if trial % 10 == 0:\n",
        "            print(\"Trial:\",trial,\"Accuracy\",\"%.3g\" % (100*np.mean((prediction==y_test).astype(float))) )\n",
        "\n",
        "        means[trial] = 100*np.mean((prediction==y_test).astype(float))\n",
        "\n",
        "    print(\"Final mean classification accuracy \", \"%.3g\" % (np.mean(means)), \"with standard deviation\", \"%.3g\" % (np.std(means)))"
      ]
    },
    {
      "cell_type": "code",
      "execution_count": 17,
      "metadata": {
        "colab": {
          "base_uri": "https://localhost:8080/"
        },
        "id": "YorSpXcnBhvc",
        "outputId": "deb9b649-6074-40e9-ef56-c30f14f88de6"
      },
      "outputs": [
        {
          "name": "stdout",
          "output_type": "stream",
          "text": [
            "Trial: 0 Accuracy 71.6\n",
            "Trial: 10 Accuracy 70.9\n",
            "Trial: 20 Accuracy 77.6\n",
            "Trial: 30 Accuracy 74.6\n",
            "Trial: 40 Accuracy 72.2\n",
            "Trial: 50 Accuracy 69.6\n",
            "Trial: 60 Accuracy 70.6\n",
            "Trial: 70 Accuracy 73.2\n",
            "Trial: 80 Accuracy 69.2\n",
            "Trial: 90 Accuracy 70.9\n",
            "Final mean classification accuracy  72 with standard deviation 2.11\n"
          ]
        }
      ],
      "source": [
        "test_classifier(data, labels, ntrials=100)"
      ]
    },
    {
      "attachments": {},
      "cell_type": "markdown",
      "metadata": {
        "id": "uwmwdfWp8OhQ"
      },
      "source": [
        "## Test Relevance of Features"
      ]
    },
    {
      "cell_type": "code",
      "execution_count": null,
      "metadata": {
        "id": "PBZPc2TA8N32"
      },
      "outputs": [],
      "source": [
        "n_data, n_features = data.shape\n",
        "for x in range(n_features):\n",
        "  # sel = range(len(features) - x)\n",
        "  print(f\"Predictive power of feature f{x}:\")\n",
        "  test_classifier(data[:, x].reshape(-1, 1), labels, ntrials=10)\n"
      ]
    },
    {
      "cell_type": "code",
      "execution_count": null,
      "metadata": {
        "colab": {
          "base_uri": "https://localhost:8080/"
        },
        "id": "TuwF5NrIHtSD",
        "outputId": "8966d825-73fe-49a3-b6fb-8921c5c0a531"
      },
      "outputs": [],
      "source": [
        "n_data, n_features = data.shape\n",
        "for x in range(n_features):\n",
        "  sel = list(range(n_features - x))\n",
        "  sel = [abs(x-17) for x in sel]\n",
        "  print(f\"Predictive power of feature {sel}:\")\n",
        "  test_classifier(data[:, sel], labels, ntrials=30)"
      ]
    },
    {
      "attachments": {},
      "cell_type": "markdown",
      "metadata": {},
      "source": [
        "## Experimenting with tree parameters"
      ]
    },
    {
      "cell_type": "code",
      "execution_count": 39,
      "metadata": {
        "colab": {
          "base_uri": "https://localhost:8080/",
          "height": 74
        },
        "id": "I0Wtc_KkSJn8",
        "outputId": "09f67001-41cb-4422-a8f8-1a571f6dfb7d"
      },
      "outputs": [
        {
          "data": {
            "text/html": [
              "<style>#sk-container-id-1 {color: black;background-color: white;}#sk-container-id-1 pre{padding: 0;}#sk-container-id-1 div.sk-toggleable {background-color: white;}#sk-container-id-1 label.sk-toggleable__label {cursor: pointer;display: block;width: 100%;margin-bottom: 0;padding: 0.3em;box-sizing: border-box;text-align: center;}#sk-container-id-1 label.sk-toggleable__label-arrow:before {content: \"▸\";float: left;margin-right: 0.25em;color: #696969;}#sk-container-id-1 label.sk-toggleable__label-arrow:hover:before {color: black;}#sk-container-id-1 div.sk-estimator:hover label.sk-toggleable__label-arrow:before {color: black;}#sk-container-id-1 div.sk-toggleable__content {max-height: 0;max-width: 0;overflow: hidden;text-align: left;background-color: #f0f8ff;}#sk-container-id-1 div.sk-toggleable__content pre {margin: 0.2em;color: black;border-radius: 0.25em;background-color: #f0f8ff;}#sk-container-id-1 input.sk-toggleable__control:checked~div.sk-toggleable__content {max-height: 200px;max-width: 100%;overflow: auto;}#sk-container-id-1 input.sk-toggleable__control:checked~label.sk-toggleable__label-arrow:before {content: \"▾\";}#sk-container-id-1 div.sk-estimator input.sk-toggleable__control:checked~label.sk-toggleable__label {background-color: #d4ebff;}#sk-container-id-1 div.sk-label input.sk-toggleable__control:checked~label.sk-toggleable__label {background-color: #d4ebff;}#sk-container-id-1 input.sk-hidden--visually {border: 0;clip: rect(1px 1px 1px 1px);clip: rect(1px, 1px, 1px, 1px);height: 1px;margin: -1px;overflow: hidden;padding: 0;position: absolute;width: 1px;}#sk-container-id-1 div.sk-estimator {font-family: monospace;background-color: #f0f8ff;border: 1px dotted black;border-radius: 0.25em;box-sizing: border-box;margin-bottom: 0.5em;}#sk-container-id-1 div.sk-estimator:hover {background-color: #d4ebff;}#sk-container-id-1 div.sk-parallel-item::after {content: \"\";width: 100%;border-bottom: 1px solid gray;flex-grow: 1;}#sk-container-id-1 div.sk-label:hover label.sk-toggleable__label {background-color: #d4ebff;}#sk-container-id-1 div.sk-serial::before {content: \"\";position: absolute;border-left: 1px solid gray;box-sizing: border-box;top: 0;bottom: 0;left: 50%;z-index: 0;}#sk-container-id-1 div.sk-serial {display: flex;flex-direction: column;align-items: center;background-color: white;padding-right: 0.2em;padding-left: 0.2em;position: relative;}#sk-container-id-1 div.sk-item {position: relative;z-index: 1;}#sk-container-id-1 div.sk-parallel {display: flex;align-items: stretch;justify-content: center;background-color: white;position: relative;}#sk-container-id-1 div.sk-item::before, #sk-container-id-1 div.sk-parallel-item::before {content: \"\";position: absolute;border-left: 1px solid gray;box-sizing: border-box;top: 0;bottom: 0;left: 50%;z-index: -1;}#sk-container-id-1 div.sk-parallel-item {display: flex;flex-direction: column;z-index: 1;position: relative;background-color: white;}#sk-container-id-1 div.sk-parallel-item:first-child::after {align-self: flex-end;width: 50%;}#sk-container-id-1 div.sk-parallel-item:last-child::after {align-self: flex-start;width: 50%;}#sk-container-id-1 div.sk-parallel-item:only-child::after {width: 0;}#sk-container-id-1 div.sk-dashed-wrapped {border: 1px dashed gray;margin: 0 0.4em 0.5em 0.4em;box-sizing: border-box;padding-bottom: 0.4em;background-color: white;}#sk-container-id-1 div.sk-label label {font-family: monospace;font-weight: bold;display: inline-block;line-height: 1.2em;}#sk-container-id-1 div.sk-label-container {text-align: center;}#sk-container-id-1 div.sk-container {/* jupyter's `normalize.less` sets `[hidden] { display: none; }` but bootstrap.min.css set `[hidden] { display: none !important; }` so we also need the `!important` here to be able to override the default hidden behavior on the sphinx rendered scikit-learn.org. See: https://github.com/scikit-learn/scikit-learn/issues/21755 */display: inline-block !important;position: relative;}#sk-container-id-1 div.sk-text-repr-fallback {display: none;}</style><div id=\"sk-container-id-1\" class=\"sk-top-container\"><div class=\"sk-text-repr-fallback\"><pre>DecisionTreeClassifier()</pre><b>In a Jupyter environment, please rerun this cell to show the HTML representation or trust the notebook. <br />On GitHub, the HTML representation is unable to render, please try loading this page with nbviewer.org.</b></div><div class=\"sk-container\" hidden><div class=\"sk-item\"><div class=\"sk-estimator sk-toggleable\"><input class=\"sk-toggleable__control sk-hidden--visually\" id=\"sk-estimator-id-1\" type=\"checkbox\" checked><label for=\"sk-estimator-id-1\" class=\"sk-toggleable__label sk-toggleable__label-arrow\">DecisionTreeClassifier</label><div class=\"sk-toggleable__content\"><pre>DecisionTreeClassifier()</pre></div></div></div></div></div>"
            ],
            "text/plain": [
              "DecisionTreeClassifier()"
            ]
          },
          "execution_count": 39,
          "metadata": {},
          "output_type": "execute_result"
        }
      ],
      "source": [
        "X_train, X_test, y_train, y_test = train_test_split(data, labels, test_size=0.2, random_state=0)\n",
        "clf = DecisionTreeClassifier(criterion=\"gini\")\n",
        "clf.fit(X=X_train, y=y_train)"
      ]
    },
    {
      "cell_type": "code",
      "execution_count": 40,
      "metadata": {
        "colab": {
          "base_uri": "https://localhost:8080/",
          "height": 870
        },
        "id": "EdqAwcJg84e5",
        "outputId": "962241af-3ee0-40f7-9cae-e28b80dfe305"
      },
      "outputs": [
        {
          "name": "stdout",
          "output_type": "stream",
          "text": [
            "Number of nodes in the last tree is: 1 with ccp_alpha: 0.08154430978601412\n"
          ]
        },
        {
          "data": {
            "image/png": "[encoded data removed]",
            "text/plain": [
              "<Figure size 640x480 with 1 Axes>"
            ]
          },
          "metadata": {},
          "output_type": "display_data"
        },
        {
          "data": {
            "image/png": "[encoded data removed]",
            "text/plain": [
              "<Figure size 640x480 with 2 Axes>"
            ]
          },
          "metadata": {},
          "output_type": "display_data"
        },
        {
          "data": {
            "image/png": "[encoded data removed]",
            "text/plain": [
              "<Figure size 640x480 with 1 Axes>"
            ]
          },
          "metadata": {},
          "output_type": "display_data"
        }
      ],
      "source": [
        "path = clf.cost_complexity_pruning_path(X_train, y_train)\n",
        "ccp_alphas, impurities = path.ccp_alphas, path.impurities\n",
        "fig, ax = plt.subplots()\n",
        "ax.plot(ccp_alphas[:-1], impurities[:-1], marker=\"o\", drawstyle=\"steps-post\")\n",
        "ax.set_xlabel(\"effective alpha\")\n",
        "ax.set_ylabel(\"total impurity of leaves\")\n",
        "ax.set_title(\"Total Impurity vs effective alpha for training set\")\n",
        "clfs = []\n",
        "for ccp_alpha in ccp_alphas:\n",
        "    clf = DecisionTreeClassifier(random_state=0, ccp_alpha=ccp_alpha)\n",
        "    clf.fit(X_train, y_train)\n",
        "    clfs.append(clf)\n",
        "print(\n",
        "    \"Number of nodes in the last tree is: {} with ccp_alpha: {}\".format(\n",
        "        clfs[-1].tree_.node_count, ccp_alphas[-1]\n",
        "    )\n",
        ")\n",
        "clfs = clfs[:-1]\n",
        "ccp_alphas = ccp_alphas[:-1]\n",
        "\n",
        "node_counts = [clf.tree_.node_count for clf in clfs]\n",
        "depth = [clf.tree_.max_depth for clf in clfs]\n",
        "fig, ax = plt.subplots(2, 1)\n",
        "ax[0].plot(ccp_alphas, node_counts, marker=\"o\", drawstyle=\"steps-post\")\n",
        "ax[0].set_xlabel(\"alpha\")\n",
        "ax[0].set_ylabel(\"number of nodes\")\n",
        "ax[0].set_title(\"Number of nodes vs alpha\")\n",
        "ax[1].plot(ccp_alphas, depth, marker=\"o\", drawstyle=\"steps-post\")\n",
        "ax[1].set_xlabel(\"alpha\")\n",
        "ax[1].set_ylabel(\"depth of tree\")\n",
        "ax[1].set_title(\"Depth vs alpha\")\n",
        "fig.tight_layout()\n",
        "\n",
        "train_scores = [clf.score(X_train, y_train) for clf in clfs]\n",
        "test_scores = [clf.score(X_test, y_test) for clf in clfs]\n",
        "\n",
        "fig, ax = plt.subplots()\n",
        "ax.set_xlabel(\"alpha\")\n",
        "ax.set_ylabel(\"accuracy\")\n",
        "ax.set_title(\"Accuracy vs alpha for training and testing sets\")\n",
        "ax.plot(ccp_alphas, train_scores, marker=\"o\", label=\"train\", drawstyle=\"steps-post\")\n",
        "ax.plot(ccp_alphas, test_scores, marker=\"o\", label=\"test\", drawstyle=\"steps-post\")\n",
        "ax.legend()\n",
        "plt.show()"
      ]
    },
    {
      "cell_type": "code",
      "execution_count": null,
      "metadata": {
        "colab": {
          "base_uri": "https://localhost:8080/",
          "height": 35
        },
        "id": "HEAyU6pyv-Sx",
        "outputId": "79533372-76d5-4989-b24f-a44dc1b8ea1c"
      },
      "outputs": [],
      "source": [
        "# prova\n",
        "\n",
        "dot_data = export_graphviz(clf, out_file=None,class_names=[\"Serpent\",\"Dragspel\",\"Nyckelharpa\"],filled=True, rounded=True,special_characters=True) \n",
        "graph = graphviz.Source(dot_data) \n",
        "graph.render(\"pruned_tree\")"
      ]
    },
    {
      "cell_type": "code",
      "execution_count": 41,
      "metadata": {
        "colab": {
          "base_uri": "https://localhost:8080/"
        },
        "id": "DGuEOy2XAh8v",
        "outputId": "e5848e34-fd88-416e-9676-9121a0aea008"
      },
      "outputs": [
        {
          "name": "stdout",
          "output_type": "stream",
          "text": [
            "74.0\n"
          ]
        }
      ],
      "source": [
        "X_train, X_test, y_train, y_test = train_test_split(data, labels, test_size=0.2, random_state=0)\n",
        "clf = DecisionTreeClassifier(max_depth=7, criterion=\"gini\", ccp_alpha=0.005)\n",
        "clf.fit(X=X_train, y=y_train)\n",
        "prediction = clf.predict(X_test)\n",
        "\n",
        "accuracy = 100*np.mean((prediction==y_test).astype(float))\n",
        "print(accuracy)"
      ]
    }
  ],
  "metadata": {
    "colab": {
      "provenance": []
    },
    "kernelspec": {
      "display_name": "Python 3",
      "language": "python",
      "name": "python3"
    },
    "language_info": {
      "codemirror_mode": {
        "name": "ipython",
        "version": 3
      },
      "file_extension": ".py",
      "mimetype": "text/x-python",
      "name": "python",
      "nbconvert_exporter": "python",
      "pygments_lexer": "ipython3",
      "version": "3.10.9"
    },
    "orig_nbformat": 4
  },
  "nbformat": 4,
  "nbformat_minor": 0
}
