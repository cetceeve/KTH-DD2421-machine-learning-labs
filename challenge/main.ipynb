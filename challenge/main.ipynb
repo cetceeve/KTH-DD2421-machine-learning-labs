{
 "cells": [
  {
   "attachments": {},
   "cell_type": "markdown",
   "metadata": {},
   "source": [
    "# Programming Challenge\n"
   ]
  },
  {
   "attachments": {},
   "cell_type": "markdown",
   "metadata": {},
   "source": [
    "Imports "
   ]
  },
  {
   "cell_type": "code",
   "execution_count": 208,
   "metadata": {},
   "outputs": [],
   "source": [
    "import numpy as np\n",
    "from typing import *\n",
    "from sklearn.tree import DecisionTreeClassifier\n",
    "from sklearn.ensemble import RandomForestClassifier, AdaBoostClassifier\n",
    "from sklearn.naive_bayes import GaussianNB\n",
    "from sklearn.model_selection import train_test_split"
   ]
  },
  {
   "attachments": {},
   "cell_type": "markdown",
   "metadata": {},
   "source": [
    "load csv and apply the following changes\n",
    "1. remove column 5\n",
    "2. encode the labels as 0: Serpent, 1: Dragspel, 2: Nyckelharpa\n",
    "3. replace N/A by ''\n",
    "4. transform boolean column into TRUE: 1, and FALSE: 0"
   ]
  },
  {
   "cell_type": "code",
   "execution_count": 163,
   "metadata": {},
   "outputs": [],
   "source": [
    "features = [1,2,3,4,7,8,9,10,11,12,13]\n",
    "def label_encodings(label):\n",
    "    if label == \"Serpent\":\n",
    "        return 0\n",
    "    elif label == \"Dragspel\":\n",
    "        return 1\n",
    "    else:\n",
    "        return 2\n",
    "\n",
    "na_transform = lambda s: '' if s == 'N/A' else s\n",
    "bool_transform = lambda b: 1 if b == 'TRUE' else 0\n",
    "\n",
    "# data_types = [(\"y\", \"U11\"), (\"x1\", np.float32), (\"x2\", np.float32), (\"x3\", np.float32), (\"x4\", np.float32), (\"x5\", np.float32), (\"x6\", \"U17\"), (\"x7\", np.float32), (\"x8\", np.float32), (\"x9\", np.float32), (\"x10\", np.float32), (\"x11\", np.float32), (\"x12\", np.float32), (\"x13\", np.float32)]\n",
    "# raw_data = np.genfromtxt(\"./data/TrainOnMe-Clean.csv\", delimiter=\";\", encoding=\"utf-8\", dtype=data_types, skip_header=1, usecols=features, converters = {6: na_transform, 11: bool_transform, 12: bool_transform})\n",
    "labels = np.genfromtxt(\"./data/TrainOnMe-Clean.csv\", delimiter=\";\", encoding=\"utf-8\", dtype=None, skip_header=1, usecols=[0], converters={0: label_encodings})\n",
    "data = np.loadtxt(\"./data/TrainOnMe-Clean.csv\", delimiter=\";\", encoding=\"utf-8\", skiprows=1, usecols=features, converters = {6: na_transform, 11: bool_transform, 12: bool_transform})"
   ]
  },
  {
   "cell_type": "code",
   "execution_count": null,
   "metadata": {},
   "outputs": [],
   "source": [
    "display(data)"
   ]
  },
  {
   "attachments": {},
   "cell_type": "markdown",
   "metadata": {},
   "source": [
    "Normalize the data"
   ]
  },
  {
   "cell_type": "code",
   "execution_count": 168,
   "metadata": {},
   "outputs": [],
   "source": [
    "data_normed = preprocessing.normalize(data, axis=0)\n",
    "# rewrite the boolean columsn that get ruined by the normalization\n",
    "data_normed[:, -3] = data[:, -3]\n",
    "data_normed[:, -2] = data[:, -2]"
   ]
  },
  {
   "cell_type": "code",
   "execution_count": 170,
   "metadata": {},
   "outputs": [
    {
     "name": "stdout",
     "output_type": "stream",
     "text": [
      "[[-0.01453297  0.07277292  0.03169483  0.01462534 -0.01839605  0.02707992\n",
      "   0.03170785 -0.03168683  1.          1.          0.01453286]\n",
      " [-0.01017951  0.08236642  0.03168498  0.01020297 -0.04640219 -0.02344793\n",
      "   0.03170793 -0.03168674  1.          1.          0.01017951]\n",
      " [ 0.03632506  0.07957271  0.03168748 -0.03629514  0.01953677 -0.04281484\n",
      "   0.03168543 -0.03168579  1.          1.         -0.03632495]\n",
      " [ 0.06341846  0.00250781  0.0316871  -0.06341229  0.02429789 -0.06562895\n",
      "   0.03168596 -0.03168597  1.          0.         -0.06341835]\n",
      " [ 0.00751228  0.03226052  0.03168353 -0.00751164  0.00452078  0.0128732\n",
      "   0.03167661 -0.03168649  1.          0.         -0.00751239]\n",
      " [ 0.02019632  0.03064474  0.03167929 -0.02020078  0.01117812 -0.02813618\n",
      "   0.03168357 -0.03168593  1.          0.         -0.02019633]\n",
      " [ 0.0068345   0.06032289  0.03169357 -0.00675809  0.02193142 -0.00352346\n",
      "   0.03168704 -0.03168545  1.          0.         -0.0068345 ]\n",
      " [ 0.01007917  0.03317778  0.03167905 -0.01005696  0.0182177  -0.01056754\n",
      "   0.03168761 -0.03168539  1.          0.         -0.01007917]\n",
      " [ 0.00888893  0.05235794  0.03168444 -0.00885477  0.00898702  0.00806571\n",
      "   0.03169556 -0.03168651  1.          0.         -0.00888893]\n",
      " [ 0.05221052 -0.0169831   0.03168852 -0.05224318  0.05602521 -0.04081789\n",
      "   0.0316924  -0.03168539  1.          0.         -0.05221064]]\n"
     ]
    }
   ],
   "source": [
    "print(data_normed[:10])"
   ]
  },
  {
   "attachments": {},
   "cell_type": "markdown",
   "metadata": {},
   "source": [
    "Split the data into test and training"
   ]
  },
  {
   "cell_type": "code",
   "execution_count": 195,
   "metadata": {},
   "outputs": [],
   "source": [
    "X_train, X_test, y_train, y_test = train_test_split(data_normed, labels, test_size=0.3, random_state=0)"
   ]
  },
  {
   "attachments": {},
   "cell_type": "markdown",
   "metadata": {},
   "source": [
    "Fit Classifier"
   ]
  },
  {
   "cell_type": "code",
   "execution_count": 196,
   "metadata": {},
   "outputs": [
    {
     "data": {
      "text/html": [
       "<style>#sk-container-id-4 {color: black;background-color: white;}#sk-container-id-4 pre{padding: 0;}#sk-container-id-4 div.sk-toggleable {background-color: white;}#sk-container-id-4 label.sk-toggleable__label {cursor: pointer;display: block;width: 100%;margin-bottom: 0;padding: 0.3em;box-sizing: border-box;text-align: center;}#sk-container-id-4 label.sk-toggleable__label-arrow:before {content: \"▸\";float: left;margin-right: 0.25em;color: #696969;}#sk-container-id-4 label.sk-toggleable__label-arrow:hover:before {color: black;}#sk-container-id-4 div.sk-estimator:hover label.sk-toggleable__label-arrow:before {color: black;}#sk-container-id-4 div.sk-toggleable__content {max-height: 0;max-width: 0;overflow: hidden;text-align: left;background-color: #f0f8ff;}#sk-container-id-4 div.sk-toggleable__content pre {margin: 0.2em;color: black;border-radius: 0.25em;background-color: #f0f8ff;}#sk-container-id-4 input.sk-toggleable__control:checked~div.sk-toggleable__content {max-height: 200px;max-width: 100%;overflow: auto;}#sk-container-id-4 input.sk-toggleable__control:checked~label.sk-toggleable__label-arrow:before {content: \"▾\";}#sk-container-id-4 div.sk-estimator input.sk-toggleable__control:checked~label.sk-toggleable__label {background-color: #d4ebff;}#sk-container-id-4 div.sk-label input.sk-toggleable__control:checked~label.sk-toggleable__label {background-color: #d4ebff;}#sk-container-id-4 input.sk-hidden--visually {border: 0;clip: rect(1px 1px 1px 1px);clip: rect(1px, 1px, 1px, 1px);height: 1px;margin: -1px;overflow: hidden;padding: 0;position: absolute;width: 1px;}#sk-container-id-4 div.sk-estimator {font-family: monospace;background-color: #f0f8ff;border: 1px dotted black;border-radius: 0.25em;box-sizing: border-box;margin-bottom: 0.5em;}#sk-container-id-4 div.sk-estimator:hover {background-color: #d4ebff;}#sk-container-id-4 div.sk-parallel-item::after {content: \"\";width: 100%;border-bottom: 1px solid gray;flex-grow: 1;}#sk-container-id-4 div.sk-label:hover label.sk-toggleable__label {background-color: #d4ebff;}#sk-container-id-4 div.sk-serial::before {content: \"\";position: absolute;border-left: 1px solid gray;box-sizing: border-box;top: 0;bottom: 0;left: 50%;z-index: 0;}#sk-container-id-4 div.sk-serial {display: flex;flex-direction: column;align-items: center;background-color: white;padding-right: 0.2em;padding-left: 0.2em;position: relative;}#sk-container-id-4 div.sk-item {position: relative;z-index: 1;}#sk-container-id-4 div.sk-parallel {display: flex;align-items: stretch;justify-content: center;background-color: white;position: relative;}#sk-container-id-4 div.sk-item::before, #sk-container-id-4 div.sk-parallel-item::before {content: \"\";position: absolute;border-left: 1px solid gray;box-sizing: border-box;top: 0;bottom: 0;left: 50%;z-index: -1;}#sk-container-id-4 div.sk-parallel-item {display: flex;flex-direction: column;z-index: 1;position: relative;background-color: white;}#sk-container-id-4 div.sk-parallel-item:first-child::after {align-self: flex-end;width: 50%;}#sk-container-id-4 div.sk-parallel-item:last-child::after {align-self: flex-start;width: 50%;}#sk-container-id-4 div.sk-parallel-item:only-child::after {width: 0;}#sk-container-id-4 div.sk-dashed-wrapped {border: 1px dashed gray;margin: 0 0.4em 0.5em 0.4em;box-sizing: border-box;padding-bottom: 0.4em;background-color: white;}#sk-container-id-4 div.sk-label label {font-family: monospace;font-weight: bold;display: inline-block;line-height: 1.2em;}#sk-container-id-4 div.sk-label-container {text-align: center;}#sk-container-id-4 div.sk-container {/* jupyter's `normalize.less` sets `[hidden] { display: none; }` but bootstrap.min.css set `[hidden] { display: none !important; }` so we also need the `!important` here to be able to override the default hidden behavior on the sphinx rendered scikit-learn.org. See: https://github.com/scikit-learn/scikit-learn/issues/21755 */display: inline-block !important;position: relative;}#sk-container-id-4 div.sk-text-repr-fallback {display: none;}</style><div id=\"sk-container-id-4\" class=\"sk-top-container\"><div class=\"sk-text-repr-fallback\"><pre>DecisionTreeClassifier()</pre><b>In a Jupyter environment, please rerun this cell to show the HTML representation or trust the notebook. <br />On GitHub, the HTML representation is unable to render, please try loading this page with nbviewer.org.</b></div><div class=\"sk-container\" hidden><div class=\"sk-item\"><div class=\"sk-estimator sk-toggleable\"><input class=\"sk-toggleable__control sk-hidden--visually\" id=\"sk-estimator-id-4\" type=\"checkbox\" checked><label for=\"sk-estimator-id-4\" class=\"sk-toggleable__label sk-toggleable__label-arrow\">DecisionTreeClassifier</label><div class=\"sk-toggleable__content\"><pre>DecisionTreeClassifier()</pre></div></div></div></div></div>"
      ],
      "text/plain": [
       "DecisionTreeClassifier()"
      ]
     },
     "execution_count": 196,
     "metadata": {},
     "output_type": "execute_result"
    }
   ],
   "source": [
    "clf = tree.DecisionTreeClassifier()\n",
    "clf.fit(X=X_train, y=y_train)"
   ]
  },
  {
   "cell_type": "code",
   "execution_count": 197,
   "metadata": {},
   "outputs": [
    {
     "name": "stdout",
     "output_type": "stream",
     "text": [
      "[2 1 0 1 0 1 1 1 1 1 1 1 0 1 2 0 1 1 1 0 1 0 2 0 0 0 2 1 1 0 2 1 1 1 1 2 2\n",
      " 0 1 1 2 2 1 1 1 1 2 1 2 2 2 1 1 1 2 1 1 2 1 2 2 1 2 2 1 2 2 1 1 2 0 1 2 2\n",
      " 0 0 1 2 2 1 1 0 0 1 2 1 1 1 1 1 1 0 2 2 1 2 0 1 2 1 1 2 1 2 0 2 1 0 1 1 0\n",
      " 2 1 1 1 2 1 2 2 1 0 1 2 1 1 1 2 1 1 1 2 2 1 2 2 2 2 1 1 2 0 2 2 2 2 0 1 2\n",
      " 1 1 1 2 1 1 1 2 2 1 1 1 1 1 1 1 2 2 1 1 1 1 1 1 1 2 1 1 0 1 1 0 1 0 1 1 1\n",
      " 2 1 2 2 1 0 0 0 1 0 0 2 1 2 1 2 2 1 0 0 1 1 0 1 2 0 1 1 2 2 1 1 1 2 1 1 0\n",
      " 1 0 1 0 2 2 0 1 1 1 2 0 2 2 1 1 2 1 2 0 0 2 1 1 0 1 1 0 2 0 1 1 1 2 1 1 0\n",
      " 0 1 1 2 2 1 0 1 1 0 1 0 1 1 1 1 1 0 2 2 2 1 1 1 1 1 1 1 0 1 0 2 1 1 2 0 0\n",
      " 2 0 1] [2 1 0 0 2 1 1 1 1 1 1 1 0 0 2 2 1 1 1 0 1 0 1 0 0 2 1 1 1 2 2 1 0 1 1 2 2\n",
      " 1 1 2 2 0 1 1 0 1 2 1 2 2 1 1 1 2 2 1 2 1 2 2 1 1 1 1 1 1 0 1 2 0 1 1 2 2\n",
      " 2 1 1 2 2 1 1 1 1 1 1 2 2 1 1 1 1 0 1 2 1 2 0 1 0 1 1 1 1 2 0 2 2 2 1 1 0\n",
      " 2 1 1 1 2 1 1 2 2 2 1 2 1 1 1 1 1 1 1 1 0 1 2 0 2 2 1 2 1 1 2 0 0 2 0 1 2\n",
      " 1 1 1 2 1 1 1 1 2 1 1 1 1 1 1 1 2 0 1 1 1 1 1 1 0 1 1 1 1 1 1 2 1 0 1 2 2\n",
      " 0 1 1 2 1 1 0 1 1 1 1 2 1 2 1 2 2 0 1 0 1 2 1 0 0 0 1 1 1 2 1 1 1 2 0 1 1\n",
      " 1 1 1 0 0 2 0 0 1 1 0 1 2 1 1 0 1 1 1 2 0 2 0 1 2 1 1 1 1 0 0 1 1 2 1 1 0\n",
      " 2 1 1 2 1 1 1 1 0 0 1 2 1 1 1 0 1 2 1 2 2 0 2 1 0 1 1 1 1 2 2 0 1 1 2 0 0\n",
      " 0 2 1]\n",
      "64.88294314381271\n"
     ]
    }
   ],
   "source": [
    "prediction = clf.predict(X_test)\n",
    "\n",
    "accuracy = 100*np.mean((prediction==y_test).astype(float))\n",
    "print(prediction, y_test)\n",
    "print(accuracy)"
   ]
  },
  {
   "attachments": {},
   "cell_type": "markdown",
   "metadata": {},
   "source": [
    "# Test Classifier\n",
    "\n",
    "classification and testing steps put together in a loop"
   ]
  },
  {
   "cell_type": "code",
   "execution_count": 210,
   "metadata": {},
   "outputs": [
    {
     "name": "stdout",
     "output_type": "stream",
     "text": [
      "Trial: 0 Accuracy 71.6\n",
      "Trial: 10 Accuracy 70.2\n",
      "Trial: 20 Accuracy 69.6\n",
      "Trial: 30 Accuracy 69.6\n",
      "Trial: 40 Accuracy 70.9\n",
      "Trial: 50 Accuracy 69.9\n",
      "Trial: 60 Accuracy 72.9\n",
      "Trial: 70 Accuracy 72.9\n",
      "Trial: 80 Accuracy 72.2\n",
      "Trial: 90 Accuracy 68.6\n",
      "Final mean classification accuracy  70.9 with standard deviation 1.35\n"
     ]
    }
   ],
   "source": [
    "ntrials = 100\n",
    "means = np.zeros(ntrials,)\n",
    "for trial in range(ntrials):\n",
    "    X_train, X_test, y_train, y_test = train_test_split(data_normed, labels, test_size=0.3, random_state=0)\n",
    "\n",
    "    # Train\n",
    "    clf = RandomForestClassifier(n_estimators=20)\n",
    "    clf.fit(X=X_train, y=y_train)\n",
    "    # Predict\n",
    "    prediction = clf.predict(X_test)\n",
    "\n",
    "    # Compute classification error\n",
    "    if trial % 10 == 0:\n",
    "        print(\"Trial:\",trial,\"Accuracy\",\"%.3g\" % (100*np.mean((prediction==y_test).astype(float))) )\n",
    "\n",
    "    means[trial] = 100*np.mean((prediction==y_test).astype(float))\n",
    "\n",
    "print(\"Final mean classification accuracy \", \"%.3g\" % (np.mean(means)), \"with standard deviation\", \"%.3g\" % (np.std(means)))"
   ]
  }
 ],
 "metadata": {
  "kernelspec": {
   "display_name": "Python 3",
   "language": "python",
   "name": "python3"
  },
  "language_info": {
   "codemirror_mode": {
    "name": "ipython",
    "version": 3
   },
   "file_extension": ".py",
   "mimetype": "text/x-python",
   "name": "python",
   "nbconvert_exporter": "python",
   "pygments_lexer": "ipython3",
   "version": "3.10.9"
  },
  "orig_nbformat": 4
 },
 "nbformat": 4,
 "nbformat_minor": 2
}
