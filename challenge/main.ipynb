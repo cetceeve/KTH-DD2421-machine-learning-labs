{
  "cells": [
    {
      "cell_type": "markdown",
      "metadata": {
        "id": "4oZxTENhSJn0"
      },
      "source": [
        "# Programming Challenge\n"
      ]
    },
    {
      "cell_type": "markdown",
      "metadata": {
        "id": "oCdNhrnqSJn4"
      },
      "source": [
        "Imports "
      ]
    },
    {
      "cell_type": "code",
      "execution_count": 9,
      "metadata": {
        "id": "s_PXJJRTSJn4"
      },
      "outputs": [],
      "source": [
        "import numpy as np\n",
        "import matplotlib.pyplot as plt\n",
        "from typing import *\n",
        "from sklearn.tree import DecisionTreeClassifier, export_graphviz\n",
        "from sklearn.ensemble import RandomForestClassifier\n",
        "from sklearn.naive_bayes import GaussianNB\n",
        "from sklearn.svm import SVC\n",
        "from sklearn.model_selection import train_test_split\n",
        "from sklearn.preprocessing import normalize, OneHotEncoder, StandardScaler\n",
        "import graphviz "
      ]
    },
    {
      "cell_type": "markdown",
      "source": [
        "# Preprocessing"
      ],
      "metadata": {
        "id": "TatM3ew5g-6z"
      }
    },
    {
      "cell_type": "markdown",
      "metadata": {
        "id": "qsiFWPqlSJn5"
      },
      "source": [
        "load csv and apply the following changes\n",
        "1. remove column 5\n",
        "2. encode the labels as 0: Serpent, 1: Dragspel, 2: Nyckelharpa\n",
        "3. replace N/A by ''\n",
        "4. transform boolean column into TRUE: 1, and FALSE: 0"
      ]
    },
    {
      "cell_type": "code",
      "execution_count": 2,
      "metadata": {
        "id": "Nu0M-rr7SJn5"
      },
      "outputs": [],
      "source": [
        "def label_encodings(label):\n",
        "    if label == \"Serpent\":\n",
        "        return 0\n",
        "    elif label == \"Dragspel\":\n",
        "        return 1\n",
        "    else:\n",
        "        return 2\n",
        "\n",
        "\n",
        "# na_transform = lambda s: '' if s == 'N/A' else s\n",
        "bool_transform = lambda b: 1 if b == 'TRUE' else 0\n",
        "\n",
        "# data_types = [(\"y\", \"U11\"), (\"x1\", np.float32), (\"x2\", np.float32), (\"x3\", np.float32), (\"x4\", np.float32), (\"x5\", np.float32), (\"x6\", \"U17\"), (\"x7\", np.float32), (\"x8\", np.float32), (\"x9\", np.float32), (\"x10\", np.float32), (\"x11\", np.float32), (\"x12\", np.float32), (\"x13\", np.float32)]\n",
        "# Get all string features\n",
        "labels, x6_raw = np.genfromtxt(\"/content/TrainOnMe-Clean.csv\", delimiter=\";\", encoding=\"utf-8\", dtype=None, skip_header=1, usecols=[0, 6], converters={0: label_encodings}, unpack=True)\n",
        "# Get all float features\n",
        "data_raw = np.loadtxt(\"/content/TrainOnMe-Clean.csv\", delimiter=\";\", encoding=\"utf-8\", skiprows=1, usecols=[1,2,3,4,7,8,9,10,11,12,13], converters = {11: bool_transform, 12: bool_transform})"
      ]
    },
    {
      "cell_type": "code",
      "execution_count": null,
      "metadata": {
        "id": "8I--7iiXSJn6"
      },
      "outputs": [],
      "source": [
        "display(labels)\n",
        "display(x6_raw)"
      ]
    },
    {
      "cell_type": "markdown",
      "metadata": {
        "id": "nxh6yaiaSJn6"
      },
      "source": [
        "### Normalize the float data\n",
        "\n",
        "boolean data needs to be added back in\n"
      ]
    },
    {
      "cell_type": "code",
      "execution_count": 119,
      "metadata": {
        "id": "ByCy6NFrSJn7"
      },
      "outputs": [],
      "source": [
        "# data_normed = normalize(data_raw, axis=0) # rewrite the boolean columsn that get ruined by the normalization\n",
        "scalar = StandardScaler().fit(data_raw)\n",
        "data_normed = scalar.transform(data_raw)\n",
        "data_normed[:, -3] = data_raw[:, -3]\n",
        "data_normed[:, -2] = data_raw[:, -2]"
      ]
    },
    {
      "cell_type": "code",
      "execution_count": null,
      "metadata": {
        "id": "kglUWAVGSJn7"
      },
      "outputs": [],
      "source": [
        "print(data_normed[:10])"
      ]
    },
    {
      "cell_type": "markdown",
      "source": [
        "### One-hot encoding of x6 categorial features\n",
        "\n",
        "- first get the categories (including N/A)\n",
        "- second encode them"
      ],
      "metadata": {
        "id": "gSijE9-ThIwY"
      }
    },
    {
      "cell_type": "code",
      "source": [
        "categories = set(x6_raw)\n",
        "# categories.remove('N/A')\n",
        "categories = list(categories)\n",
        "\n",
        "encoder = OneHotEncoder(handle_unknown='ignore', categories=[categories,])\n",
        "# fit and transform x6 using the encoder\n",
        "x6_encoded = encoder.fit_transform(x6_raw.reshape(-1, 1)) # reshape to make it column vector (comes as )\n",
        "x6_encoded = x6_encoded.todense()\n",
        "\n",
        "data = np.asarray(np.hstack((data_normed, x6_encoded)))"
      ],
      "metadata": {
        "id": "gT2bh2_ghZ69"
      },
      "execution_count": 120,
      "outputs": []
    },
    {
      "cell_type": "code",
      "source": [
        "print(data.shape)\n",
        "print(data[0])"
      ],
      "metadata": {
        "colab": {
          "base_uri": "https://localhost:8080/"
        },
        "id": "E6LhCrXiko3S",
        "outputId": "9b09333b-acb0-4752-837d-c4048fd09972"
      },
      "execution_count": 12,
      "outputs": [
        {
          "output_type": "stream",
          "name": "stdout",
          "text": [
            "(996, 18)\n",
            "[-1.73007693  2.28816445  1.09602906  1.73084379 -1.45125524  1.69753505\n",
            "  1.88882138 -1.42579039  1.          1.          1.73007204  0.\n",
            "  0.          0.          0.          0.          1.          0.        ]\n"
          ]
        }
      ]
    },
    {
      "cell_type": "markdown",
      "source": [
        "# Single execution of data split and classification"
      ],
      "metadata": {
        "id": "BF03rdRIg2a9"
      }
    },
    {
      "cell_type": "markdown",
      "metadata": {
        "id": "4hGxNaCySJn8"
      },
      "source": [
        "Split the data into test and training"
      ]
    },
    {
      "cell_type": "code",
      "execution_count": 81,
      "metadata": {
        "id": "I0Wtc_KkSJn8",
        "colab": {
          "base_uri": "https://localhost:8080/",
          "height": 74
        },
        "outputId": "09f67001-41cb-4422-a8f8-1a571f6dfb7d"
      },
      "outputs": [
        {
          "output_type": "execute_result",
          "data": {
            "text/plain": [
              "DecisionTreeClassifier(criterion='entropy')"
            ],
            "text/html": [
              "<style>#sk-container-id-5 {color: black;background-color: white;}#sk-container-id-5 pre{padding: 0;}#sk-container-id-5 div.sk-toggleable {background-color: white;}#sk-container-id-5 label.sk-toggleable__label {cursor: pointer;display: block;width: 100%;margin-bottom: 0;padding: 0.3em;box-sizing: border-box;text-align: center;}#sk-container-id-5 label.sk-toggleable__label-arrow:before {content: \"▸\";float: left;margin-right: 0.25em;color: #696969;}#sk-container-id-5 label.sk-toggleable__label-arrow:hover:before {color: black;}#sk-container-id-5 div.sk-estimator:hover label.sk-toggleable__label-arrow:before {color: black;}#sk-container-id-5 div.sk-toggleable__content {max-height: 0;max-width: 0;overflow: hidden;text-align: left;background-color: #f0f8ff;}#sk-container-id-5 div.sk-toggleable__content pre {margin: 0.2em;color: black;border-radius: 0.25em;background-color: #f0f8ff;}#sk-container-id-5 input.sk-toggleable__control:checked~div.sk-toggleable__content {max-height: 200px;max-width: 100%;overflow: auto;}#sk-container-id-5 input.sk-toggleable__control:checked~label.sk-toggleable__label-arrow:before {content: \"▾\";}#sk-container-id-5 div.sk-estimator input.sk-toggleable__control:checked~label.sk-toggleable__label {background-color: #d4ebff;}#sk-container-id-5 div.sk-label input.sk-toggleable__control:checked~label.sk-toggleable__label {background-color: #d4ebff;}#sk-container-id-5 input.sk-hidden--visually {border: 0;clip: rect(1px 1px 1px 1px);clip: rect(1px, 1px, 1px, 1px);height: 1px;margin: -1px;overflow: hidden;padding: 0;position: absolute;width: 1px;}#sk-container-id-5 div.sk-estimator {font-family: monospace;background-color: #f0f8ff;border: 1px dotted black;border-radius: 0.25em;box-sizing: border-box;margin-bottom: 0.5em;}#sk-container-id-5 div.sk-estimator:hover {background-color: #d4ebff;}#sk-container-id-5 div.sk-parallel-item::after {content: \"\";width: 100%;border-bottom: 1px solid gray;flex-grow: 1;}#sk-container-id-5 div.sk-label:hover label.sk-toggleable__label {background-color: #d4ebff;}#sk-container-id-5 div.sk-serial::before {content: \"\";position: absolute;border-left: 1px solid gray;box-sizing: border-box;top: 0;bottom: 0;left: 50%;z-index: 0;}#sk-container-id-5 div.sk-serial {display: flex;flex-direction: column;align-items: center;background-color: white;padding-right: 0.2em;padding-left: 0.2em;position: relative;}#sk-container-id-5 div.sk-item {position: relative;z-index: 1;}#sk-container-id-5 div.sk-parallel {display: flex;align-items: stretch;justify-content: center;background-color: white;position: relative;}#sk-container-id-5 div.sk-item::before, #sk-container-id-5 div.sk-parallel-item::before {content: \"\";position: absolute;border-left: 1px solid gray;box-sizing: border-box;top: 0;bottom: 0;left: 50%;z-index: -1;}#sk-container-id-5 div.sk-parallel-item {display: flex;flex-direction: column;z-index: 1;position: relative;background-color: white;}#sk-container-id-5 div.sk-parallel-item:first-child::after {align-self: flex-end;width: 50%;}#sk-container-id-5 div.sk-parallel-item:last-child::after {align-self: flex-start;width: 50%;}#sk-container-id-5 div.sk-parallel-item:only-child::after {width: 0;}#sk-container-id-5 div.sk-dashed-wrapped {border: 1px dashed gray;margin: 0 0.4em 0.5em 0.4em;box-sizing: border-box;padding-bottom: 0.4em;background-color: white;}#sk-container-id-5 div.sk-label label {font-family: monospace;font-weight: bold;display: inline-block;line-height: 1.2em;}#sk-container-id-5 div.sk-label-container {text-align: center;}#sk-container-id-5 div.sk-container {/* jupyter's `normalize.less` sets `[hidden] { display: none; }` but bootstrap.min.css set `[hidden] { display: none !important; }` so we also need the `!important` here to be able to override the default hidden behavior on the sphinx rendered scikit-learn.org. See: https://github.com/scikit-learn/scikit-learn/issues/21755 */display: inline-block !important;position: relative;}#sk-container-id-5 div.sk-text-repr-fallback {display: none;}</style><div id=\"sk-container-id-5\" class=\"sk-top-container\"><div class=\"sk-text-repr-fallback\"><pre>DecisionTreeClassifier(criterion=&#x27;entropy&#x27;)</pre><b>In a Jupyter environment, please rerun this cell to show the HTML representation or trust the notebook. <br />On GitHub, the HTML representation is unable to render, please try loading this page with nbviewer.org.</b></div><div class=\"sk-container\" hidden><div class=\"sk-item\"><div class=\"sk-estimator sk-toggleable\"><input class=\"sk-toggleable__control sk-hidden--visually\" id=\"sk-estimator-id-5\" type=\"checkbox\" checked><label for=\"sk-estimator-id-5\" class=\"sk-toggleable__label sk-toggleable__label-arrow\">DecisionTreeClassifier</label><div class=\"sk-toggleable__content\"><pre>DecisionTreeClassifier(criterion=&#x27;entropy&#x27;)</pre></div></div></div></div></div>"
            ]
          },
          "metadata": {},
          "execution_count": 81
        }
      ],
      "source": [
        "X_train, X_test, y_train, y_test = train_test_split(data, labels, test_size=0.2, random_state=0)\n",
        "clf = DecisionTreeClassifier(criterion=\"entropy\")\n",
        "clf.fit(X=X_train, y=y_train)"
      ]
    },
    {
      "cell_type": "markdown",
      "source": [
        "Pruning"
      ],
      "metadata": {
        "id": "TCMdluAN81pd"
      }
    },
    {
      "cell_type": "code",
      "source": [
        "path = clf.cost_complexity_pruning_path(X_train, y_train)\n",
        "ccp_alphas, impurities = path.ccp_alphas, path.impurities\n",
        "fig, ax = plt.subplots()\n",
        "ax.plot(ccp_alphas[:-1], impurities[:-1], marker=\"o\", drawstyle=\"steps-post\")\n",
        "ax.set_xlabel(\"effective alpha\")\n",
        "ax.set_ylabel(\"total impurity of leaves\")\n",
        "ax.set_title(\"Total Impurity vs effective alpha for training set\")\n",
        "clfs = []\n",
        "for ccp_alpha in ccp_alphas:\n",
        "    clf = DecisionTreeClassifier(random_state=0, ccp_alpha=ccp_alpha)\n",
        "    clf.fit(X_train, y_train)\n",
        "    clfs.append(clf)\n",
        "print(\n",
        "    \"Number of nodes in the last tree is: {} with ccp_alpha: {}\".format(\n",
        "        clfs[-1].tree_.node_count, ccp_alphas[-1]\n",
        "    )\n",
        ")\n",
        "clfs = clfs[:-1]\n",
        "ccp_alphas = ccp_alphas[:-1]\n",
        "\n",
        "node_counts = [clf.tree_.node_count for clf in clfs]\n",
        "depth = [clf.tree_.max_depth for clf in clfs]\n",
        "fig, ax = plt.subplots(2, 1)\n",
        "ax[0].plot(ccp_alphas, node_counts, marker=\"o\", drawstyle=\"steps-post\")\n",
        "ax[0].set_xlabel(\"alpha\")\n",
        "ax[0].set_ylabel(\"number of nodes\")\n",
        "ax[0].set_title(\"Number of nodes vs alpha\")\n",
        "ax[1].plot(ccp_alphas, depth, marker=\"o\", drawstyle=\"steps-post\")\n",
        "ax[1].set_xlabel(\"alpha\")\n",
        "ax[1].set_ylabel(\"depth of tree\")\n",
        "ax[1].set_title(\"Depth vs alpha\")\n",
        "fig.tight_layout()\n",
        "\n",
        "train_scores = [clf.score(X_train, y_train) for clf in clfs]\n",
        "test_scores = [clf.score(X_test, y_test) for clf in clfs]\n",
        "\n",
        "fig, ax = plt.subplots()\n",
        "ax.set_xlabel(\"alpha\")\n",
        "ax.set_ylabel(\"accuracy\")\n",
        "ax.set_title(\"Accuracy vs alpha for training and testing sets\")\n",
        "ax.plot(ccp_alphas, train_scores, marker=\"o\", label=\"train\", drawstyle=\"steps-post\")\n",
        "ax.plot(ccp_alphas, test_scores, marker=\"o\", label=\"test\", drawstyle=\"steps-post\")\n",
        "ax.legend()\n",
        "plt.show()"
      ],
      "metadata": {
        "colab": {
          "base_uri": "https://localhost:8080/",
          "height": 870
        },
        "id": "EdqAwcJg84e5",
        "outputId": "962241af-3ee0-40f7-9cae-e28b80dfe305"
      },
      "execution_count": 82,
      "outputs": [
        {
          "output_type": "stream",
          "name": "stdout",
          "text": [
            "Number of nodes in the last tree is: 1 with ccp_alpha: 0.171871986710457\n"
          ]
        },
        {
          "output_type": "display_data",
          "data": {
            "text/plain": [
              "<Figure size 432x288 with 1 Axes>"
            ],
            "image/png": "[encoded data removed]"
          },
          "metadata": {
            "needs_background": "light"
          }
        },
        {
          "output_type": "display_data",
          "data": {
            "text/plain": [
              "<Figure size 432x288 with 2 Axes>"
            ],
            "image/png": "[encoded data removed]"
          },
          "metadata": {
            "needs_background": "light"
          }
        },
        {
          "output_type": "display_data",
          "data": {
            "text/plain": [
              "<Figure size 432x288 with 1 Axes>"
            ],
            "image/png": "[encoded data removed]"
          },
          "metadata": {
            "needs_background": "light"
          }
        }
      ]
    },
    {
      "cell_type": "markdown",
      "source": [
        "change the value of alpha to prune the tree: alpha=0.005"
      ],
      "metadata": {
        "id": "uY1GPWRTAXkd"
      }
    },
    {
      "cell_type": "code",
      "source": [
        "X_train, X_test, y_train, y_test = train_test_split(data, labels, test_size=0.2, random_state=0)\n",
        "clf = DecisionTreeClassifier(max_depth=6, criterion=\"entropy\")\n",
        "clf.fit(X=X_train, y=y_train)\n",
        "prediction = clf.predict(X_test)\n",
        "\n",
        "accuracy = 100*np.mean((prediction==y_test).astype(float))\n",
        "print(accuracy)"
      ],
      "metadata": {
        "colab": {
          "base_uri": "https://localhost:8080/"
        },
        "id": "DGuEOy2XAh8v",
        "outputId": "e5848e34-fd88-416e-9676-9121a0aea008"
      },
      "execution_count": 106,
      "outputs": [
        {
          "output_type": "stream",
          "name": "stdout",
          "text": [
            "72.5\n"
          ]
        }
      ]
    },
    {
      "cell_type": "code",
      "source": [
        "# prova\n",
        "\n",
        "dot_data = export_graphviz(clf, out_file=None,class_names=[\"Serpent\",\"Dragspel\",\"Nyckelharpa\"],filled=True, rounded=True,special_characters=True) \n",
        "graph = graphviz.Source(dot_data) \n",
        "graph.render(\"pruned_tree\")"
      ],
      "metadata": {
        "colab": {
          "base_uri": "https://localhost:8080/",
          "height": 35
        },
        "id": "HEAyU6pyv-Sx",
        "outputId": "79533372-76d5-4989-b24f-a44dc1b8ea1c"
      },
      "execution_count": 84,
      "outputs": [
        {
          "output_type": "execute_result",
          "data": {
            "text/plain": [
              "'pruned_tree.pdf'"
            ],
            "application/vnd.google.colaboratory.intrinsic+json": {
              "type": "string"
            }
          },
          "metadata": {},
          "execution_count": 84
        }
      ]
    },
    {
      "cell_type": "markdown",
      "metadata": {
        "id": "77oz4xlBSJn9"
      },
      "source": [
        "# Test Classifier\n",
        "\n",
        "classification and testing steps put together in a loop"
      ]
    },
    {
      "cell_type": "code",
      "execution_count": 131,
      "metadata": {
        "id": "b-BpFGprSJn-"
      },
      "outputs": [],
      "source": [
        "def test_classifier(data, labels, ntrials = 100): \n",
        "    means = np.zeros(ntrials,)\n",
        "    for trial in range(ntrials):\n",
        "        X_train, X_test, y_train, y_test = train_test_split(data, labels, test_size=0.2, random_state=0)\n",
        "\n",
        "        # Train\n",
        "        # clf = DecisionTreeClassifier(criterion=\"entropy\", max_depth=6)\n",
        "        # clf = GaussianNB()\n",
        "        clf = RandomForestClassifier(n_estimators=20, criterion=\"entropy\", max_depth=7)\n",
        "        clf.fit(X=X_train, y=y_train)\n",
        "        # Predict\n",
        "        prediction = clf.predict(X_test)\n",
        "\n",
        "        # Compute classification error\n",
        "        if trial % 10 == 0:\n",
        "            print(\"Trial:\",trial,\"Accuracy\",\"%.3g\" % (100*np.mean((prediction==y_test).astype(float))) )\n",
        "\n",
        "        means[trial] = 100*np.mean((prediction==y_test).astype(float))\n",
        "\n",
        "    print(\"Final mean classification accuracy \", \"%.3g\" % (np.mean(means)), \"with standard deviation\", \"%.3g\" % (np.std(means)))"
      ]
    },
    {
      "cell_type": "markdown",
      "source": [
        "Test Relevance of Features"
      ],
      "metadata": {
        "id": "uwmwdfWp8OhQ"
      }
    },
    {
      "cell_type": "code",
      "source": [
        "n_data, n_features = data.shape\n",
        "for x in range(n_features):\n",
        "  # sel = range(len(features) - x)\n",
        "  print(f\"Predictive power of feature f{x}:\")\n",
        "  test_classifier(data[:, x].reshape(-1, 1), labels, ntrials=10)\n"
      ],
      "metadata": {
        "id": "PBZPc2TA8N32"
      },
      "execution_count": null,
      "outputs": []
    },
    {
      "cell_type": "code",
      "source": [
        "test_classifier(data, labels, ntrials=100)"
      ],
      "metadata": {
        "colab": {
          "base_uri": "https://localhost:8080/"
        },
        "id": "YorSpXcnBhvc",
        "outputId": "deb9b649-6074-40e9-ef56-c30f14f88de6"
      },
      "execution_count": 132,
      "outputs": [
        {
          "output_type": "stream",
          "name": "stdout",
          "text": [
            "Trial: 0 Accuracy 74\n",
            "Trial: 10 Accuracy 73.5\n",
            "Trial: 20 Accuracy 75.5\n",
            "Trial: 30 Accuracy 76.5\n",
            "Trial: 40 Accuracy 73.5\n",
            "Trial: 50 Accuracy 74.5\n",
            "Trial: 60 Accuracy 75\n",
            "Trial: 70 Accuracy 76\n",
            "Trial: 80 Accuracy 75.5\n",
            "Trial: 90 Accuracy 74.5\n",
            "Final mean classification accuracy  74.5 with standard deviation 1.22\n"
          ]
        }
      ]
    },
    {
      "cell_type": "code",
      "source": [
        "n_data, n_features = data.shape\n",
        "for x in range(n_features):\n",
        "  sel = list(range(n_features - x))\n",
        "  sel = [abs(x-17) for x in sel]\n",
        "  print(f\"Predictive power of feature {sel}:\")\n",
        "  test_classifier(data[:, sel], labels, ntrials=30)"
      ],
      "metadata": {
        "colab": {
          "base_uri": "https://localhost:8080/"
        },
        "id": "TuwF5NrIHtSD",
        "outputId": "8966d825-73fe-49a3-b6fb-8921c5c0a531"
      },
      "execution_count": null,
      "outputs": [
        {
          "output_type": "stream",
          "name": "stdout",
          "text": [
            "Predictive power of feature [17, 16, 15, 14, 13, 12, 11, 10, 9, 8, 7, 6, 5, 4, 3, 2, 1, 0]:\n",
            "Trial: 0 Accuracy 75.5\n",
            "Trial: 10 Accuracy 75.5\n",
            "Trial: 20 Accuracy 75.5\n",
            "Final mean classification accuracy  75.5 with standard deviation 0\n",
            "Predictive power of feature [17, 16, 15, 14, 13, 12, 11, 10, 9, 8, 7, 6, 5, 4, 3, 2, 1]:\n",
            "Trial: 0 Accuracy 75.5\n",
            "Trial: 10 Accuracy 75.5\n",
            "Trial: 20 Accuracy 75.5\n",
            "Final mean classification accuracy  75.5 with standard deviation 0\n",
            "Predictive power of feature [17, 16, 15, 14, 13, 12, 11, 10, 9, 8, 7, 6, 5, 4, 3, 2]:\n",
            "Trial: 0 Accuracy 75.5\n",
            "Trial: 10 Accuracy 75.5\n",
            "Trial: 20 Accuracy 75.5\n",
            "Final mean classification accuracy  75.5 with standard deviation 0\n",
            "Predictive power of feature [17, 16, 15, 14, 13, 12, 11, 10, 9, 8, 7, 6, 5, 4, 3]:\n",
            "Trial: 0 Accuracy 75\n",
            "Trial: 10 Accuracy 75\n",
            "Trial: 20 Accuracy 75\n",
            "Final mean classification accuracy  75 with standard deviation 0\n",
            "Predictive power of feature [17, 16, 15, 14, 13, 12, 11, 10, 9, 8, 7, 6, 5, 4]:\n",
            "Trial: 0 Accuracy 75\n",
            "Trial: 10 Accuracy 75\n",
            "Trial: 20 Accuracy 75\n",
            "Final mean classification accuracy  75 with standard deviation 0\n",
            "Predictive power of feature [17, 16, 15, 14, 13, 12, 11, 10, 9, 8, 7, 6, 5]:\n",
            "Trial: 0 Accuracy 75\n",
            "Trial: 10 Accuracy 75\n",
            "Trial: 20 Accuracy 75\n",
            "Final mean classification accuracy  75 with standard deviation 0\n",
            "Predictive power of feature [17, 16, 15, 14, 13, 12, 11, 10, 9, 8, 7, 6]:\n",
            "Trial: 0 Accuracy 75\n",
            "Trial: 10 Accuracy 75\n",
            "Trial: 20 Accuracy 75\n",
            "Final mean classification accuracy  75 with standard deviation 0\n",
            "Predictive power of feature [17, 16, 15, 14, 13, 12, 11, 10, 9, 8, 7]:\n",
            "Trial: 0 Accuracy 58.5\n",
            "Trial: 10 Accuracy 58.5\n",
            "Trial: 20 Accuracy 58.5\n",
            "Final mean classification accuracy  58.5 with standard deviation 0\n",
            "Predictive power of feature [17, 16, 15, 14, 13, 12, 11, 10, 9, 8]:\n",
            "Trial: 0 Accuracy 58.5\n",
            "Trial: 10 Accuracy 58.5\n",
            "Trial: 20 Accuracy 58.5\n",
            "Final mean classification accuracy  58.5 with standard deviation 0\n",
            "Predictive power of feature [17, 16, 15, 14, 13, 12, 11, 10, 9]:\n",
            "Trial: 0 Accuracy 58.5\n",
            "Trial: 10 Accuracy 58.5\n",
            "Trial: 20 Accuracy 58.5\n",
            "Final mean classification accuracy  58.5 with standard deviation 0\n",
            "Predictive power of feature [17, 16, 15, 14, 13, 12, 11, 10]:\n",
            "Trial: 0 Accuracy 58.5\n",
            "Trial: 10 Accuracy 58.5\n",
            "Trial: 20 Accuracy 58.5\n",
            "Final mean classification accuracy  58.5 with standard deviation 0\n",
            "Predictive power of feature [17, 16, 15, 14, 13, 12, 11]:\n",
            "Trial: 0 Accuracy 58.5\n",
            "Trial: 10 Accuracy 58.5\n",
            "Trial: 20 Accuracy 58.5\n",
            "Final mean classification accuracy  58.5 with standard deviation 0\n",
            "Predictive power of feature [17, 16, 15, 14, 13, 12]:\n",
            "Trial: 0 Accuracy 58.5\n",
            "Trial: 10 Accuracy 58.5\n",
            "Trial: 20 Accuracy 58.5\n",
            "Final mean classification accuracy  58.5 with standard deviation 0\n",
            "Predictive power of feature [17, 16, 15, 14, 13]:\n",
            "Trial: 0 Accuracy 58.5\n",
            "Trial: 10 Accuracy 58.5\n",
            "Trial: 20 Accuracy 58.5\n",
            "Final mean classification accuracy  58.5 with standard deviation 0\n",
            "Predictive power of feature [17, 16, 15, 14]:\n",
            "Trial: 0 Accuracy 58.5\n",
            "Trial: 10 Accuracy 58.5\n",
            "Trial: 20 Accuracy 58.5\n",
            "Final mean classification accuracy  58.5 with standard deviation 0\n",
            "Predictive power of feature [17, 16, 15]:\n",
            "Trial: 0 Accuracy 58.5\n",
            "Trial: 10 Accuracy 58.5\n",
            "Trial: 20 Accuracy 58.5\n",
            "Final mean classification accuracy  58.5 with standard deviation 0\n",
            "Predictive power of feature [17, 16]:\n",
            "Trial: 0 Accuracy 58.5\n",
            "Trial: 10 Accuracy 58.5\n",
            "Trial: 20 Accuracy 58.5\n",
            "Final mean classification accuracy  58.5 with standard deviation 0\n",
            "Predictive power of feature [17]:\n",
            "Trial: 0 Accuracy 58.5\n",
            "Trial: 10 Accuracy 58.5\n",
            "Trial: 20 Accuracy 58.5\n",
            "Final mean classification accuracy  58.5 with standard deviation 0\n"
          ]
        }
      ]
    },
    {
      "cell_type": "markdown",
      "source": [
        "# Testing Results\n",
        "\n",
        "- All Classifiers (Naive Bayes, Decision Tree, Forest) achieve around the same accuracy (68%). \n",
        "\n",
        "- Decision Tree with pruning will only use x9 and ignore other features.\n",
        "\n",
        "- Featues x8,x9,x10 seem to have the highest prediction power.\n",
        "\n",
        "- Increasing the test set size decreases the classifier performance -> Classifier still overfitts on data"
      ],
      "metadata": {
        "id": "ASdjy--wG70f"
      }
    },
    {
      "cell_type": "markdown",
      "source": [
        "From ChatGPT for later experiments"
      ],
      "metadata": {
        "id": "AIwcWc8_YmQG"
      }
    },
    {
      "cell_type": "code",
      "source": [
        "from sklearn.tree import DecisionTreeClassifier\n",
        "from sklearn.preprocessing import OneHotEncoder\n",
        "\n",
        "# create a categorical feature matrix X\n",
        "X = np.array(['A', 'B', 'C', 'C', 'A', None, None]).reshape(-1, 1)\n",
        "# create a target variable y\n",
        "#y = [0, 1, 1, 1, 1]\n",
        "\n",
        "# instantiate an OneHotEncoder object\n",
        "encoder = OneHotEncoder(handle_unknown='ignore', categories=[['A', 'B', 'C'],])\n",
        "\n",
        "# fit and transform X using the encoder\n",
        "X_encoded = encoder.fit_transform(X)\n",
        "display(X_encoded.todense())\n",
        "\n",
        "# instantiate a DecisionTreeClassifier object\n",
        "#dt = DecisionTreeClassifier()\n",
        "\n",
        "# fit the model on the encoded features and target variable\n",
        "#dt.fit(X_encoded, y)"
      ],
      "metadata": {
        "id": "Ftl0OmLJYkK-",
        "colab": {
          "base_uri": "https://localhost:8080/",
          "height": 136
        },
        "outputId": "f89c9153-963e-4c01-94db-4e86b5999686"
      },
      "execution_count": null,
      "outputs": [
        {
          "output_type": "display_data",
          "data": {
            "text/plain": [
              "matrix([[1., 0., 0.],\n",
              "        [0., 1., 0.],\n",
              "        [0., 0., 1.],\n",
              "        [0., 0., 1.],\n",
              "        [1., 0., 0.],\n",
              "        [0., 0., 0.],\n",
              "        [0., 0., 0.]])"
            ]
          },
          "metadata": {}
        }
      ]
    }
  ],
  "metadata": {
    "kernelspec": {
      "display_name": "Python 3",
      "language": "python",
      "name": "python3"
    },
    "language_info": {
      "codemirror_mode": {
        "name": "ipython",
        "version": 3
      },
      "file_extension": ".py",
      "mimetype": "text/x-python",
      "name": "python",
      "nbconvert_exporter": "python",
      "pygments_lexer": "ipython3",
      "version": "3.10.9"
    },
    "orig_nbformat": 4,
    "colab": {
      "provenance": []
    }
  },
  "nbformat": 4,
  "nbformat_minor": 0
}